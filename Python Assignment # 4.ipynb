{
 "cells": [
  {
   "cell_type": "code",
   "execution_count": 7,
   "metadata": {
    "ExecuteTime": {
     "end_time": "2019-12-01T12:54:17.972619Z",
     "start_time": "2019-12-01T12:54:17.960240Z"
    }
   },
   "outputs": [
    {
     "name": "stdout",
     "output_type": "stream",
     "text": [
      "first_name : Ali\n",
      "last_name : Asad\n",
      "age : 21\n",
      "City : Karachi\n",
      "\n",
      "After adding \"Qualification\" Key:\n",
      " {'first_name': 'Ali', 'last_name': 'Asad', 'age': 21, 'City': 'Karachi', 'Qualification': ''}\n",
      "\n",
      "After updating \"Qualification\" Key:\n",
      " {'first_name': 'Ali', 'last_name': 'Asad', 'age': 21, 'City': 'Karachi', 'Qualification': 'Intermediate'}\n",
      "\n",
      "After deleting \"Qualification\" Key:\n",
      " {'first_name': 'Ali', 'last_name': 'Asad', 'age': 21, 'City': 'Karachi'}\n"
     ]
    }
   ],
   "source": [
    "'''Question No. 1\n",
    "A python script to use a dictionary to store a information about a person '''\n",
    "\n",
    "person_dict = {'first_name':'Ali', 'last_name':'Asad', 'age': 21, 'City':'Karachi'}\n",
    "\n",
    "for k, v in person_dict.items():\n",
    "    print(f\"{k} : {v}\")\n",
    "print()\n",
    "# Adding another key\n",
    "person_dict['Qualification'] = ''\n",
    "print(\"After adding \\\"Qualification\\\" Key:\\n\", person_dict)\n",
    "print()\n",
    "# Updating Key-Value\n",
    "person_dict.update({'Qualification':'Intermediate'})\n",
    "print(\"After updating \\\"Qualification\\\" Key:\\n\", person_dict)\n",
    "print()\n",
    "del person_dict['Qualification']\n",
    "print(\"After deleting \\\"Qualification\\\" Key:\\n\", person_dict)\n",
    "\n"
   ]
  },
  {
   "cell_type": "code",
   "execution_count": 14,
   "metadata": {
    "ExecuteTime": {
     "end_time": "2019-12-01T14:30:02.093507Z",
     "start_time": "2019-12-01T14:30:02.086689Z"
    }
   },
   "outputs": [
    {
     "name": "stdout",
     "output_type": "stream",
     "text": [
      "Karachi : {'Country': 'Pakistan', 'Population': '15.40 million', 'Fact': 'Industrial Capital'}\n",
      "New York : {'Country': 'USA', 'Population': '19.49 million', 'Fact': 'Most Populous City'}\n",
      "Paris : {'Country': 'France', 'Population': '2.21 million', 'Fact': 'Rich Culture'}\n"
     ]
    }
   ],
   "source": [
    "'''Question No. 2\n",
    "A python script to make a cities dictionary and adding informatoin about them.'''\n",
    "\n",
    "cities = {'Karachi':{'Country':'Pakistan', 'Population':'15.40 million', 'Fact':'Industrial Capital'},\n",
    "         'New York':{'Country':'USA', 'Population':'19.49 million', 'Fact':'Most Populous City'},\n",
    "          'Paris':{'Country':'France', 'Population':'2.21 million', 'Fact':'Rich Culture'}}\n",
    "for city, info in cities.items():\n",
    "    print(f\"{city} : {info}\")"
   ]
  },
  {
   "cell_type": "code",
   "execution_count": 15,
   "metadata": {
    "ExecuteTime": {
     "end_time": "2019-12-01T14:36:42.149952Z",
     "start_time": "2019-12-01T14:36:23.479241Z"
    }
   },
   "outputs": [
    {
     "name": "stdout",
     "output_type": "stream",
     "text": [
      "Enter your age or enter 0 to exit: 4\n",
      "Your Movie Ticket Price is: $10\n",
      "Enter your age or enter 0 to exit: 2\n",
      "Your Movie Ticket is Free!\n",
      "Enter your age or enter 0 to exit: 13\n",
      "Your Movie Ticket Price is: $15\n",
      "Enter your age or enter 0 to exit: 0\n"
     ]
    }
   ],
   "source": [
    "'''Question No. 3\n",
    "A python script to calculate movie ticket price'''\n",
    "\n",
    "age = int(input(\"Enter your age or enter 0 to exit: \"))\n",
    "while age:\n",
    "    if age < 3:\n",
    "        print(\"Your Movie Ticket is Free!\")\n",
    "    elif age >= 3 and age <= 12:\n",
    "        print(\"Your Movie Ticket Price is: $10\")\n",
    "    elif age > 12:\n",
    "        print(\"Your Movie Ticket Price is: $15\")\n",
    "    age = int(input(\"Enter your age or enter 0 to exit: \"))\n"
   ]
  },
  {
   "cell_type": "code",
   "execution_count": 23,
   "metadata": {
    "ExecuteTime": {
     "end_time": "2019-12-01T14:44:40.434833Z",
     "start_time": "2019-12-01T14:44:40.429185Z"
    }
   },
   "outputs": [
    {
     "name": "stdout",
     "output_type": "stream",
     "text": [
      "Quran is my favorite book!\n"
     ]
    }
   ],
   "source": [
    "'''Question No. 4\n",
    "A python script to write a function'''\n",
    "\n",
    "def favorite_book(title):\n",
    "    print(title, \"is my favorite book!\")\n",
    "    \n",
    "favorite_book(\"Quran\")"
   ]
  },
  {
   "cell_type": "code",
   "execution_count": 3,
   "metadata": {
    "ExecuteTime": {
     "end_time": "2019-12-01T15:22:37.304410Z",
     "start_time": "2019-12-01T15:22:13.571335Z"
    }
   },
   "outputs": [
    {
     "name": "stdout",
     "output_type": "stream",
     "text": [
      "Enter your guess number: 4\n",
      "Your guess is Smaller.\n",
      "Enter your guess number: 2\n",
      "Your guess is Smaller.\n",
      "Enter your guess number: 25\n",
      "Your guess is Smaller.\n",
      "\n",
      "Your guesses are wrong, sorry\n"
     ]
    }
   ],
   "source": [
    "'''Question No. 5\n",
    "A python script to make a guess number game'''\n",
    "import random\n",
    "rand_number = random.randint(1,30)\n",
    "\n",
    "for i in range(0,3):\n",
    "    guess = int(input(\"Enter your guess number: \"))\n",
    "    if guess == rand_number:\n",
    "        print(\"Your guess is correct!\")\n",
    "        break\n",
    "    elif guess < rand_number:\n",
    "        print(\"Your guess is Smaller.\")\n",
    "    elif guess > rand_number:\n",
    "        print(\"Your guess is Greater.\")\n",
    "else:\n",
    "    print(\"\\nYour guesses are wrong, sorry\")"
   ]
  }
 ],
 "metadata": {
  "kernelspec": {
   "display_name": "Python 3",
   "language": "python",
   "name": "python3"
  },
  "language_info": {
   "codemirror_mode": {
    "name": "ipython",
    "version": 3
   },
   "file_extension": ".py",
   "mimetype": "text/x-python",
   "name": "python",
   "nbconvert_exporter": "python",
   "pygments_lexer": "ipython3",
   "version": "3.7.4"
  },
  "toc": {
   "base_numbering": 1,
   "nav_menu": {},
   "number_sections": true,
   "sideBar": true,
   "skip_h1_title": false,
   "title_cell": "Table of Contents",
   "title_sidebar": "Contents",
   "toc_cell": false,
   "toc_position": {},
   "toc_section_display": true,
   "toc_window_display": false
  },
  "varInspector": {
   "cols": {
    "lenName": 16,
    "lenType": 16,
    "lenVar": 40
   },
   "kernels_config": {
    "python": {
     "delete_cmd_postfix": "",
     "delete_cmd_prefix": "del ",
     "library": "var_list.py",
     "varRefreshCmd": "print(var_dic_list())"
    },
    "r": {
     "delete_cmd_postfix": ") ",
     "delete_cmd_prefix": "rm(",
     "library": "var_list.r",
     "varRefreshCmd": "cat(var_dic_list()) "
    }
   },
   "types_to_exclude": [
    "module",
    "function",
    "builtin_function_or_method",
    "instance",
    "_Feature"
   ],
   "window_display": false
  }
 },
 "nbformat": 4,
 "nbformat_minor": 2
}
