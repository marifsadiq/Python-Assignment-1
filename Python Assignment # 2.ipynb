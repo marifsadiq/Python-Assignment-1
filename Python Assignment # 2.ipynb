{
 "cells": [
  {
   "cell_type": "code",
   "execution_count": 11,
   "metadata": {},
   "outputs": [
    {
     "name": "stdout",
     "output_type": "stream",
     "text": [
      "*******Generate Marks Sheet using Grades*******\n",
      "(A+ = 90-100, A = 87-89, B+ = 82-86, B = 77-81, C+ = 70-76,\n",
      " C = 60-69, D+ = 50-59, D = 40-49, E = 33-39, F = 0-32)\n",
      "Each subject has 100 marks\n",
      "Total marks are: 500\n",
      "Enter obtained marks in Mathematics subject (0-100): 45\n",
      "Enter obtained marks in English subject (0-100): 56\n",
      "Enter obtained marks in Urdu subject (0-100): 75\n",
      "Enter obtained marks in Chemistry subject (0-100): 35\n",
      "Enter obtained marks in Physics subject (0-100): 63\n",
      "*****Marks Sheet*****\n",
      "Mathematics\t = 45\n",
      "English\t\t = 56\n",
      "Urdu\t\t = 75\n",
      "Chemistry\t = 35\n",
      "Physics\t\t = 63\n",
      "\n",
      "Total Obtained Marks\t = 274\n",
      "You obtained 54.8% marks and your Grade is D+\n"
     ]
    }
   ],
   "source": [
    "# Question No. 1\n",
    "# A Program to calculate obtained marks in different subjects and generate marks sheet using grades.\n",
    "print(\"*******Generate Marks Sheet using Grades*******\")\n",
    "# Grading scheme according to Board of Intermediate and Secondary Education (BISE)\n",
    "print(\"(A+ = 90-100, A = 87-89, B+ = 82-86, B = 77-81, C+ = 70-76,\\n C = 60-69, D+ = 50-59, D = 40-49, E = 33-39, F = 0-32)\")\n",
    "\n",
    "print(\"Each subject has 100 marks\")\n",
    "total_marks = 500\n",
    "print(\"Total marks are:\", total_marks)\n",
    "\n",
    "math = int(input(\"Enter obtained marks in Mathematics subject (0-100): \")) # input-1\n",
    "english = int(input(\"Enter obtained marks in English subject (0-100): \")) # input-2\n",
    "urdu = int(input(\"Enter obtained marks in Urdu subject (0-100): \")) # input-3\n",
    "chemistry = int(input(\"Enter obtained marks in Chemistry subject (0-100): \")) # input-4 \n",
    "physics = int(input(\"Enter obtained marks in Physics subject (0-100): \")) # input-5\n",
    "\n",
    "# calculate total obtained marks\n",
    "obtained_marks = math + english + urdu + chemistry + physics\n",
    "\n",
    "# print marks sheet\n",
    "print(\"*****Marks Sheet*****\")\n",
    "print(\"Mathematics\\t = {}\".format(math))\n",
    "print(\"English\\t\\t = {}\".format(english))\n",
    "print(\"Urdu\\t\\t = {}\".format(urdu))\n",
    "print(\"Chemistry\\t = {}\".format(chemistry))\n",
    "print(\"Physics\\t\\t = {}\".format(physics))\n",
    "print(\"\\nTotal Obtained Marks\\t = {}\".format(obtained_marks ))\n",
    "\n",
    "# calculate marks percentage\n",
    "percentage = round(obtained_marks / total_marks * 100, 2)\n",
    "\n",
    "if percentage >= 90 and percentage <= 100:\n",
    "    print(\"You obtained {}% marks and your Grade is A+\".format(percentage))\n",
    "elif percentage >= 87 and percentage <= 89:\n",
    "    print(\"You obtained {}% marks and your Grade is A\".format(percentage))\n",
    "elif percentage >= 82 and percentage <= 86:\n",
    "    print(\"You obtained {}% marks and your Grade is B+\".format(percentage))\n",
    "elif percentage >= 77 and percentage <= 81:\n",
    "    print(\"You obtained {}% marks and your Grade is B\".format(percentage))\n",
    "elif percentage >= 70 and percentage <= 76:\n",
    "    print(\"You obtained {}% marks and your Grade is C+\".format(percentage))\n",
    "elif percentage >= 60 and percentage <= 69:\n",
    "    print(\"You obtained {}% marks and your Grade is C\".format(percentage))\n",
    "elif percentage >= 50 and percentage <= 59:\n",
    "    print(\"You obtained {}% marks and your Grade is D+\".format(percentage))\n",
    "elif percentage >= 40 and percentage <= 49:\n",
    "    print(\"You obtained {}% marks and your Grade is D\".format(percentage))\n",
    "elif percentage >= 33 and percentage <= 39:\n",
    "    print(\"You obtained {}% marks and your Grade is E\".format(percentage))\n",
    "else:\n",
    "    print(\"You obtained {}% marks and your Grade is F\".format(percentage))"
   ]
  },
  {
   "cell_type": "code",
   "execution_count": 3,
   "metadata": {},
   "outputs": [
    {
     "name": "stdout",
     "output_type": "stream",
     "text": [
      "Please enter a number: 4\n",
      "The number given is Even.\n"
     ]
    }
   ],
   "source": [
    "# Question No. 2\n",
    "# A Program which take integer input from user and identify that the number given is odd or even\n",
    "\n",
    "number = int(input(\"Please enter a number: \"))\n",
    "\n",
    "if number % 2 == 0:\n",
    "    print(\"The given number is Even.\")\n",
    "else:\n",
    "    print(\"The given number is Odd.\")"
   ]
  },
  {
   "cell_type": "code",
   "execution_count": 4,
   "metadata": {},
   "outputs": [
    {
     "name": "stdout",
     "output_type": "stream",
     "text": [
      "Days in a week are: 7\n"
     ]
    }
   ],
   "source": [
    "# Question No. 3\n",
    "# A Program which prints the length of the list\n",
    "\n",
    "# List of week days\n",
    "week_days = [\"monday\", \"tuesday\", \"wednesday\", \"thursday\", \"friday\", \"saturday\", \"sunday\"]\n",
    "\n",
    "print(\"Days in a week are:\", len(week_days))"
   ]
  },
  {
   "cell_type": "code",
   "execution_count": 5,
   "metadata": {},
   "outputs": [
    {
     "name": "stdout",
     "output_type": "stream",
     "text": [
      "Sum of all numeric values of List is: 146\n"
     ]
    }
   ],
   "source": [
    "# Question No. 4\n",
    "# A program to sum all the numeric items in a list\n",
    "\n",
    "# List\n",
    "my_list = [\"apple\", 34, \"tomato\", \"grape\", 89, \"23\"]\n",
    "\n",
    "sum_numeric = my_list[1] + my_list[4] + int(my_list[5])\n",
    "\n",
    "print(\"Sum of all numeric values of List is:\", sum_numeric)"
   ]
  },
  {
   "cell_type": "code",
   "execution_count": 9,
   "metadata": {},
   "outputs": [
    {
     "name": "stdout",
     "output_type": "stream",
     "text": [
      "The largest number in numeric List: 789\n"
     ]
    }
   ],
   "source": [
    "# Question No. 5\n",
    "# A progarm to get the largest number from a numeric list\n",
    "\n",
    "# Numeric List\n",
    "num_list = [56, 78, 34, 104, 456, 789, 43, 21]\n",
    "\n",
    "largest_number = max(num_list)\n",
    "print(\"The largest number in numeric List:\",largest_number)"
   ]
  },
  {
   "cell_type": "code",
   "execution_count": 10,
   "metadata": {},
   "outputs": [
    {
     "name": "stdout",
     "output_type": "stream",
     "text": [
      "1\n",
      "1\n",
      "2\n",
      "3\n"
     ]
    }
   ],
   "source": [
    "# Question No. 6\n",
    "# A program that prints out all the elements of the list that are less than 5\n",
    "\n",
    "# Numeric list\n",
    "numeric_list = [1, 1, 2, 3, 5, 8, 13, 21, 34, 55, 89]\n",
    "\n",
    "# for loop to check all numeric values in numeric list\n",
    "for i in numeric_list:\n",
    "    if i < 5: # check if number is less than 5\n",
    "        print(i)"
   ]
  }
 ],
 "metadata": {
  "kernelspec": {
   "display_name": "Python 3",
   "language": "python",
   "name": "python3"
  },
  "language_info": {
   "codemirror_mode": {
    "name": "ipython",
    "version": 3
   },
   "file_extension": ".py",
   "mimetype": "text/x-python",
   "name": "python",
   "nbconvert_exporter": "python",
   "pygments_lexer": "ipython3",
   "version": "3.7.4"
  }
 },
 "nbformat": 4,
 "nbformat_minor": 2
}
