{
 "cells": [
  {
   "cell_type": "code",
   "execution_count": 2,
   "metadata": {},
   "outputs": [
    {
     "name": "stdout",
     "output_type": "stream",
     "text": [
      "Twinkle, twinkle, little star,\n",
      "\tHow I wonder what you are!\n",
      "\t\tUp above the world so high,\n",
      "\t\tLike a diamond in the sky.\n",
      "Twinkle, twinkle, little star,\n",
      "\tHow I wonder what you are\n"
     ]
    }
   ],
   "source": [
    "# Python Programming Language Assignmnet # 1\n",
    "# Qestion No. 1\n",
    "print(\"Twinkle, twinkle, little star,\\n\\tHow I wonder what you are!\")\n",
    "print(\"\\t\\tUp above the world so high,\\n\\t\\tLike a diamond in the sky.\")\n",
    "print(\"Twinkle, twinkle, little star,\\n\\tHow I wonder what you are\")"
   ]
  },
  {
   "cell_type": "code",
   "execution_count": 3,
   "metadata": {},
   "outputs": [
    {
     "name": "stdout",
     "output_type": "stream",
     "text": [
      "Python Version number:  sys.version_info(major=3, minor=7, micro=4, releaselevel='final', serial=0)\n",
      "Python Version number on Windows is  3.7\n"
     ]
    }
   ],
   "source": [
    "# Question No. 2\n",
    "# Python program to get the Python version.\n",
    "import sys\n",
    "print(\"Python Version number: \", sys.version_info)\n",
    "print(\"Python Version number on Windows is \", sys.winver)"
   ]
  },
  {
   "cell_type": "code",
   "execution_count": 4,
   "metadata": {},
   "outputs": [
    {
     "name": "stdout",
     "output_type": "stream",
     "text": [
      "Todays Date and Current Time is: 2019-11-03 20:41:07.653241\n"
     ]
    }
   ],
   "source": [
    "# Question No. 3\n",
    "# Python program to display the current date and time.\n",
    "import datetime\n",
    "print(\"Todays Date and Current Time is:\", datetime.datetime.now())"
   ]
  },
  {
   "cell_type": "code",
   "execution_count": 5,
   "metadata": {},
   "outputs": [
    {
     "name": "stdout",
     "output_type": "stream",
     "text": [
      "Enter the radius of circle: 2.5\n",
      "19.634954084936208\n"
     ]
    }
   ],
   "source": [
    "# Question No. 4\n",
    "# Python program which accepts the radius of a circle from the user and compute the area.\n",
    "import math\n",
    "r = float(input(\"Enter the radius of circle: \"))\n",
    "a = math.pi * r ** 2\n",
    "print(a)"
   ]
  },
  {
   "cell_type": "code",
   "execution_count": 8,
   "metadata": {},
   "outputs": [
    {
     "name": "stdout",
     "output_type": "stream",
     "text": [
      "Enter your first name: Muhammad\n",
      "Enter your last name: Arif\n",
      "Name in reverse order: Arif Muhammad\n"
     ]
    }
   ],
   "source": [
    "# Question No. 5\n",
    "# Python program which accepts the user's first and last name and print them in reverse order\n",
    "first_name = input(\"Enter your first name: \")\n",
    "last_name = input(\"Enter your last name: \")\n",
    "name_list = [first_name, last_name]\n",
    "print(\"Name in reverse order: \" + name_list[1] + \" \" + name_list[0])"
   ]
  },
  {
   "cell_type": "code",
   "execution_count": 10,
   "metadata": {},
   "outputs": [
    {
     "name": "stdout",
     "output_type": "stream",
     "text": [
      "Enter first number: 78\n",
      "Enter second number: 89\n",
      "The Sum of Two Numbers is: 167\n"
     ]
    }
   ],
   "source": [
    "# Question No. 6\n",
    "# Python program which takes two inputs from user and print their addition\n",
    "number_one = int(input(\"Enter first number: \"))\n",
    "number_two = int(input(\"Enter second number: \"))\n",
    "sum = number_one + number_two\n",
    "print(\"The Sum of Two Numbers is:\", sum)"
   ]
  },
  {
   "cell_type": "code",
   "execution_count": null,
   "metadata": {},
   "outputs": [],
   "source": []
  }
 ],
 "metadata": {
  "kernelspec": {
   "display_name": "Python 3",
   "language": "python",
   "name": "python3"
  },
  "language_info": {
   "codemirror_mode": {
    "name": "ipython",
    "version": 3
   },
   "file_extension": ".py",
   "mimetype": "text/x-python",
   "name": "python",
   "nbconvert_exporter": "python",
   "pygments_lexer": "ipython3",
   "version": "3.7.4"
  }
 },
 "nbformat": 4,
 "nbformat_minor": 2
}
