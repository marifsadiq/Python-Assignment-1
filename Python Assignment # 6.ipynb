{
 "cells": [
  {
   "cell_type": "markdown",
   "metadata": {},
   "source": [
    "# Python Assignment # 6"
   ]
  },
  {
   "cell_type": "markdown",
   "metadata": {},
   "source": [
    "## Question No.1\n",
    "\n",
    "### Object Oriented Programming\n",
    "\n",
    "OOP is a programming style which is associated with the concepts like class, object, inheritance, encapsulation, abstraction\n",
    "and polymorphism.\n",
    "OOP approach is defining attributes and their functionality as a single unit called class."
   ]
  },
  {
   "cell_type": "markdown",
   "metadata": {},
   "source": [
    "## Question No. 2\n",
    "\n",
    "### Benefits of OOP\n",
    "\n",
    "1. The code is reuseable. This approach reduces code duplication.\n",
    "2. Real world programming.\n",
    "3. With OOP we can create GUI applications in better way.\n",
    "4. Software development is faster than functional programming approach.\n",
    "5. Data can be secured by encapsulation.\n",
    "6. Complex software could be built easily."
   ]
  },
  {
   "cell_type": "markdown",
   "metadata": {},
   "source": [
    "## Question No. 3\n",
    "\n",
    "### Difference between function and method\n",
    "A function is a piece of code which takes input, process it and gives output. Function can be reused in programs to avoid\n",
    "duplication of code.\n",
    "A method is also a function but one that is defined in class. A method is a part of class and has access to class data and other methods of class."
   ]
  },
  {
   "cell_type": "markdown",
   "metadata": {},
   "source": [
    "## Question No. 4\n",
    "\n",
    "### 1. Class\n",
    "A class is a blueprint for all objects having similar attributes and behaviors. In OOP class defines what are the attributes\n",
    "its objects has and how is its behavior.\n",
    "\n",
    "### 2. Object\n",
    "Object is an instance of a particular class.\n",
    "\n",
    "### 3. Attribute\n",
    "Attributes are properties of a particular class(Variables).\n",
    "\n",
    "### 4. Behavior\n",
    "Behavior of object is operations with the attributes of object(Methods).\n",
    "\n"
   ]
  },
  {
   "cell_type": "code",
   "execution_count": 8,
   "metadata": {},
   "outputs": [
    {
     "name": "stdout",
     "output_type": "stream",
     "text": [
      "Camry\n",
      "Yellow\n",
      "Corrolla\n",
      "Black\n"
     ]
    }
   ],
   "source": [
    "'''Question No. 5\n",
    "A class with 5 attributes and 3 methods'''\n",
    "\n",
    "class Car:\n",
    "    def __init__(self, model, color, name, make, age):\n",
    "        self.__model = model\n",
    "        self.__color = color\n",
    "        self.__name = name\n",
    "        self.__make = make\n",
    "        self.__age = age\n",
    "        \n",
    "    def set_model(self, model):\n",
    "        self.__model = model \n",
    "    def set_color(self, color):\n",
    "        self.__color = color\n",
    "    def get_model(self):\n",
    "        return self.__model\n",
    "    def get_color(self):\n",
    "        return self.__color\n",
    "\n",
    "car1 = Car('Camry', 'Yellow', 'Toyota', '2010', '9')\n",
    "car2 = Car('Corrolla', 'Black', 'Toyota', '2000', '19')\n",
    "car3 = Car('Mehran', 'White', 'Toyota', '2005', '14')\n",
    "car4 = Car('HiAce', 'Grey', 'Toyota', '2012', '7')\n",
    "car5 = Car('Crown', 'Purple', 'Toyota', '1980', '39')\n",
    "print(car1.get_model())\n",
    "print(car1.get_color())\n",
    "print(car2.get_model())\n",
    "print(car2.get_color())"
   ]
  },
  {
   "cell_type": "code",
   "execution_count": null,
   "metadata": {},
   "outputs": [],
   "source": []
  }
 ],
 "metadata": {
  "kernelspec": {
   "display_name": "Python 3",
   "language": "python",
   "name": "python3"
  },
  "language_info": {
   "codemirror_mode": {
    "name": "ipython",
    "version": 3
   },
   "file_extension": ".py",
   "mimetype": "text/x-python",
   "name": "python",
   "nbconvert_exporter": "python",
   "pygments_lexer": "ipython3",
   "version": "3.7.4"
  }
 },
 "nbformat": 4,
 "nbformat_minor": 2
}
