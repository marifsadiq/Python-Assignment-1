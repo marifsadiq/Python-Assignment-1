{
 "cells": [
  {
   "cell_type": "code",
   "execution_count": 9,
   "metadata": {
    "ExecuteTime": {
     "end_time": "2019-12-10T20:07:09.363254Z",
     "start_time": "2019-12-10T20:07:07.491388Z"
    }
   },
   "outputs": [
    {
     "name": "stdout",
     "output_type": "stream",
     "text": [
      "Please enter a non-negative Integer to calaculate Factorial: 10\n",
      "10! = 3628800\n"
     ]
    }
   ],
   "source": [
    "'''Question No. 1\n",
    "Python function to calculate thefactorial of a number'''\n",
    "\n",
    "# n! = n(n-1)*(n-2)*(n-3).....\n",
    "# 5! = 5 + 4 + 3 + 2 + 1\n",
    "def factorial_num(number):\n",
    "    x = 1\n",
    "    if number >= 0:\n",
    "        for i in range(1, number):\n",
    "            x *= number - i\n",
    "            fct = number * x\n",
    "    else:\n",
    "        print(\"You entered a negative number.\")\n",
    "        \n",
    "    print(f\"{user_input}! = {fct}\")   \n",
    "\n",
    "# user input\n",
    "user_input = int(input(\"Please enter a non-negative Integer to calaculate Factorial: \"))\n",
    "\n",
    "# calling function\n",
    "factorial_num(user_input)"
   ]
  },
  {
   "cell_type": "code",
   "execution_count": 60,
   "metadata": {
    "ExecuteTime": {
     "end_time": "2019-12-10T23:12:47.606152Z",
     "start_time": "2019-12-10T23:12:44.922504Z"
    }
   },
   "outputs": [
    {
     "name": "stdout",
     "output_type": "stream",
     "text": [
      "Please enter a word or string: karachi is the BIGGEST city of PAKISTAN\n",
      "Number of Lower case letters = 18\n",
      "Number of Upper case letters = 15\n"
     ]
    }
   ],
   "source": [
    "'''Question No. 2\n",
    "Python function that accepts a string and calculate the number of upper\n",
    "case letters and lower case letters.'''\n",
    "\n",
    "def lower_upper_count(arg_str):\n",
    "    my_str = arg_str.replace(\" \", \"\")  # removing whitespaces\n",
    "    lower_chr = 0\n",
    "    upper_chr = 0\n",
    "\n",
    "    if (my_str.isnumeric()) == False:  # accepting only characters string\n",
    "        for c in my_str:\n",
    "            if c.islower():\n",
    "                lower_chr += 1\n",
    "            else:\n",
    "                upper_chr += 1\n",
    "\n",
    "        print(\n",
    "            f\"Number of Lower case letters = {lower_chr}\\nNumber of Upper case letters = {upper_chr}\")\n",
    "\n",
    "    else:\n",
    "        print(\"Entered input is not a string.\")\n",
    "\n",
    "# user input\n",
    "user_string = input(\"Please enter a word or string: \")\n",
    "\n",
    "# calling function\n",
    "lower_upper_count(user_string)"
   ]
  },
  {
   "cell_type": "code",
   "execution_count": 30,
   "metadata": {
    "ExecuteTime": {
     "end_time": "2019-12-10T21:09:46.248591Z",
     "start_time": "2019-12-10T21:09:46.240508Z"
    }
   },
   "outputs": [
    {
     "name": "stdout",
     "output_type": "stream",
     "text": [
      "12\n",
      "1762\n",
      "876\n",
      "90\n",
      "5320\n",
      "12098\n"
     ]
    }
   ],
   "source": [
    "'''Question No. 3\n",
    "A python function that print the even numbers from a given list'''\n",
    "\n",
    "num_list = [12, 35, 67, 1762, 876, 90, 65, 1, 5320, 53, 12098]\n",
    "\n",
    "\n",
    "def even_num_print(num):\n",
    "    for i in num:\n",
    "        if i % 2 == 0:\n",
    "            print(i)\n",
    "\n",
    "\n",
    "# calling function\n",
    "even_num_print(num_list)"
   ]
  },
  {
   "cell_type": "code",
   "execution_count": 46,
   "metadata": {
    "ExecuteTime": {
     "end_time": "2019-12-10T21:42:20.503466Z",
     "start_time": "2019-12-10T21:42:16.849175Z"
    }
   },
   "outputs": [
    {
     "name": "stdout",
     "output_type": "stream",
     "text": [
      "Please enter a string to check if it is a Palindrome or not: Never Odd Or Even\n",
      "The string is a Palidrome.\n"
     ]
    }
   ],
   "source": [
    "'''Question No. 4\n",
    "A Python function that checks whether a passed string is palindrome or not.'''\n",
    "\n",
    "def is_palindrome(str):\n",
    "    my_str = str.replace(\" \", \"\")# removing whitespaces\n",
    "    my_str = my_str.casefold()# changing string to lower case\n",
    "    rev_my_str = reversed(my_str)# reversing string\n",
    "    \n",
    "    # checking if string is equal to its reverse order or not\n",
    "    \n",
    "    if list(my_str) == list(rev_my_str):\n",
    "        print(\"The string is a Palidrome.\")\n",
    "    else:\n",
    "        print(\"The string is NOT a Palindrome.\")\n",
    "\n",
    "# input from user\n",
    "input_str = input(\"Please enter a string to check if it is a Palindrome or not: \")\n",
    "\n",
    "# calling function\n",
    "is_palindrome(input_str)"
   ]
  },
  {
   "cell_type": "code",
   "execution_count": 54,
   "metadata": {
    "ExecuteTime": {
     "end_time": "2019-12-10T22:34:31.758479Z",
     "start_time": "2019-12-10T22:34:28.429915Z"
    }
   },
   "outputs": [
    {
     "name": "stdout",
     "output_type": "stream",
     "text": [
      "Enter a positive integer: 1\n",
      "1 is NOT a Prime number.\n"
     ]
    }
   ],
   "source": [
    "'''Question No. 5\n",
    "A Python function that takes a number as a parameter and check the\n",
    "number is prime or not.'''\n",
    "\n",
    "def is_prime(number):\n",
    "    if number > 1:\n",
    "        for i in range(2, number):\n",
    "            if number % i == 0:\n",
    "                print(f\"{number} is NOT a Prime number.\")\n",
    "                break\n",
    "        else:\n",
    "                print(f\"{number} is a Prime number.\")\n",
    "    else:\n",
    "        print(f\"{number} is NOT a Prime number.\")\n",
    "    \n",
    "# input from user\n",
    "num = int(input(\"Enter a positive integer: \"))\n",
    "\n",
    "# calling function\n",
    "is_prime(num)                "
   ]
  },
  {
   "cell_type": "code",
   "execution_count": 59,
   "metadata": {
    "ExecuteTime": {
     "end_time": "2019-12-10T23:03:47.502659Z",
     "start_time": "2019-12-10T23:03:47.496109Z"
    }
   },
   "outputs": [
    {
     "name": "stdout",
     "output_type": "stream",
     "text": [
      "Oil\n",
      "Yogurt\n",
      "Lentils\n",
      "Beef\n",
      "Chicken\n"
     ]
    }
   ],
   "source": [
    "'''Question No. 6\n",
    "A python function which accepts the multiple arguments of user shopping list and\n",
    "print all the items which user bought from market.'''\n",
    "\n",
    "def shopping_cart(*items):\n",
    "    for i in items:\n",
    "        print(i)\n",
    "        \n",
    "\n",
    "# calling function with arbitrary arguments\n",
    "shopping_cart('Oil', 'Yogurt', 'Lentils', 'Beef', 'Chicken')\n",
    "        "
   ]
  }
 ],
 "metadata": {
  "kernelspec": {
   "display_name": "Python 3",
   "language": "python",
   "name": "python3"
  },
  "language_info": {
   "codemirror_mode": {
    "name": "ipython",
    "version": 3
   },
   "file_extension": ".py",
   "mimetype": "text/x-python",
   "name": "python",
   "nbconvert_exporter": "python",
   "pygments_lexer": "ipython3",
   "version": "3.7.4"
  },
  "toc": {
   "base_numbering": 1,
   "nav_menu": {},
   "number_sections": true,
   "sideBar": true,
   "skip_h1_title": false,
   "title_cell": "Table of Contents",
   "title_sidebar": "Contents",
   "toc_cell": false,
   "toc_position": {},
   "toc_section_display": true,
   "toc_window_display": false
  },
  "varInspector": {
   "cols": {
    "lenName": 16,
    "lenType": 16,
    "lenVar": 40
   },
   "kernels_config": {
    "python": {
     "delete_cmd_postfix": "",
     "delete_cmd_prefix": "del ",
     "library": "var_list.py",
     "varRefreshCmd": "print(var_dic_list())"
    },
    "r": {
     "delete_cmd_postfix": ") ",
     "delete_cmd_prefix": "rm(",
     "library": "var_list.r",
     "varRefreshCmd": "cat(var_dic_list()) "
    }
   },
   "types_to_exclude": [
    "module",
    "function",
    "builtin_function_or_method",
    "instance",
    "_Feature"
   ],
   "window_display": false
  }
 },
 "nbformat": 4,
 "nbformat_minor": 2
}
