{
 "cells": [
  {
   "cell_type": "code",
   "execution_count": 14,
   "metadata": {},
   "outputs": [
    {
     "name": "stdout",
     "output_type": "stream",
     "text": [
      "***CALCULATOR***\n",
      "Enter first number: 5\n",
      "Enter second number: 2\n",
      "Enter Operator (+ for addition, - for subtraction, * for multiplication, / for division and ** for power): **\n",
      "Power of first number to the second number: 25\n"
     ]
    }
   ],
   "source": [
    "# Python Assignment No. 3\n",
    "# Question No. 01\n",
    "# Make a calculator with addition, subtraction, multiplication, division and power\n",
    "\n",
    "print(\"***CALCULATOR***\")\n",
    "first_number = int(input(\"Enter first number: \"))\n",
    "second_number = int(input(\"Enter second number: \"))\n",
    "operator = input(\n",
    "    \"Enter Operator (+ for addition, - for subtraction, * for multiplication, / for division and ** for power): \")\n",
    "answer = 0\n",
    "\n",
    "if operator == '+':\n",
    "    answer = first_number + second_number\n",
    "    print(\"Sum of given numbers:\", answer)\n",
    "elif operator == '-':\n",
    "    answer = first_number - second_number\n",
    "    print(\"Difference of given numbers:\", answer)\n",
    "elif operator == '*':\n",
    "    answer = first_number * second_number\n",
    "    print(\"Multiplication of given numbers:\", answer)\n",
    "elif operator == '/':\n",
    "    answer = first_number / second_number\n",
    "    print(\"Division of given numbers:\", answer)\n",
    "elif operator == '**':\n",
    "    answer = first_number ** second_number\n",
    "    print(\"Power of first number to the second number:\", answer)\n",
    "else:\n",
    "    print(\"You entered wrong operator.\")\n",
    "\n"
   ]
  },
  {
   "cell_type": "code",
   "execution_count": 21,
   "metadata": {},
   "outputs": [
    {
     "name": "stdout",
     "output_type": "stream",
     "text": [
      "There are 6 numeric values in list\n"
     ]
    }
   ],
   "source": [
    "# Question No. 02\n",
    "# A program to check if ther is any numeric value in list using for loop\n",
    "\n",
    "my_list = ['anwar', 321, 'aslam', 456, 98, 'zaid', 8, 'rahat', 5.7, 67.0]\n",
    "numeric_values = 0\n",
    "for item in my_list:\n",
    "    if type(item) == int or type(item) == float:\n",
    "        numeric_values += 1\n",
    "        \n",
    "print(\"There are\",numeric_values, \"numeric values in list\")"
   ]
  },
  {
   "cell_type": "code",
   "execution_count": 23,
   "metadata": {},
   "outputs": [
    {
     "name": "stdout",
     "output_type": "stream",
     "text": [
      "{'name': 'ali', 'age': 18, 'city': 'karachi'}\n"
     ]
    }
   ],
   "source": [
    "# Question No. 03\n",
    "# A program to add a key to a dictionary\n",
    "\n",
    "my_dict = {}\n",
    "\n",
    "# adding key-value pairs in dictionary\n",
    "my_dict['name'] = 'ali'\n",
    "my_dict['age'] = 18\n",
    "my_dict['city'] = 'karachi'\n",
    "\n",
    "print(my_dict)"
   ]
  },
  {
   "cell_type": "code",
   "execution_count": 60,
   "metadata": {},
   "outputs": [
    {
     "name": "stdout",
     "output_type": "stream",
     "text": [
      "Sum of all Dictionary keys: 80\n",
      "Sum of all Dictionary values: 155\n"
     ]
    }
   ],
   "source": [
    "# Question No. 04\n",
    "# A program to sum all numeric items in a dictionary\n",
    "\n",
    "numeric_dict = {1:5, 4:10, 5:20, 10:50, 60:70}\n",
    "\n",
    "sum_of_keys = sum(numeric_dict.keys())\n",
    "sum_of_values = sum(numeric_dict.values())\n",
    "\n",
    "print(\"Sum of all Dictionary keys:\", sum_of_keys)\n",
    "print(\"Sum of all Dictionary values:\", sum_of_values)\n",
    "    \n"
   ]
  },
  {
   "cell_type": "code",
   "execution_count": 93,
   "metadata": {},
   "outputs": [
    {
     "name": "stdout",
     "output_type": "stream",
     "text": [
      "The duplicate items in list are: ['python', 'C']\n"
     ]
    }
   ],
   "source": [
    "# Question No. 05\n",
    "# A program to identify duplicate values from list\n",
    "\n",
    "a_list = ['python', 'C', 'C++', 'java', 'C', 'python', 'R', 'ruby']\n",
    "duplicates = set()\n",
    "for item in a_list:\n",
    "    if a_list.count(item) >= 2:\n",
    "        duplicates.add(item)\n",
    "        \n",
    "print(\"The duplicate items in list are:\",list(duplicates))"
   ]
  },
  {
   "cell_type": "code",
   "execution_count": 94,
   "metadata": {},
   "outputs": [
    {
     "name": "stdout",
     "output_type": "stream",
     "text": [
      "Enter a Key to check in Dictionary: language\n",
      "Given key is already exists in Dictionary.\n"
     ]
    }
   ],
   "source": [
    "# Question No. 06\n",
    "# A program to check if a given key already exists in a dictionary\n",
    "\n",
    "a_dict = {'name':'ali',\n",
    "          'age':'19',\n",
    "          'city':'karachi',\n",
    "          'language':'urdu',\n",
    "         'qualification':'inter'}\n",
    "\n",
    "given_key = input(\"Enter a Key to check in Dictionary: \")\n",
    "\n",
    "if given_key in a_dict:\n",
    "    print(\"Given key is already exists in Dictionary.\")\n",
    "else:\n",
    "    print(\"Given key is not exists in Dictionary.\")"
   ]
  }
 ],
 "metadata": {
  "kernelspec": {
   "display_name": "Python 3",
   "language": "python",
   "name": "python3"
  },
  "language_info": {
   "codemirror_mode": {
    "name": "ipython",
    "version": 3
   },
   "file_extension": ".py",
   "mimetype": "text/x-python",
   "name": "python",
   "nbconvert_exporter": "python",
   "pygments_lexer": "ipython3",
   "version": "3.7.4"
  }
 },
 "nbformat": 4,
 "nbformat_minor": 2
}
